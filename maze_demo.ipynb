{
 "cells": [
  {
   "cell_type": "code",
   "execution_count": 2,
   "metadata": {},
   "outputs": [],
   "source": [
    "import sys\n",
    "sys.path.insert(1, '/run/user/1000/gvfs/smb-share:server=research.files.med.harvard.edu,share=neurobio/HarveyLab/Tier1/Lily/Maze_Design/Design_files/Maze_generation/code/') \n",
    "\n",
    "from df_maze import Maze\n",
    "import generation_algorithms"
   ]
  },
  {
   "cell_type": "code",
   "execution_count": 3,
   "metadata": {},
   "outputs": [
    {
     "name": "stdout",
     "output_type": "stream",
     "text": [
      "--------------------------------\n",
      "|       |       |   |       |   |\n",
      "|---+   +---+   +   +---+   +   +\n",
      "|               |       |       |\n",
      "|---+---+---+   +---+   +---+   +\n",
      "|   |                           |\n",
      "|   +---+---+---+---+---+---+   +\n",
      "|   |   |       |   |           |\n",
      "|   +   +---+   +   +---+---+   +\n",
      "|       |           |   |       |\n",
      "|---+   +---+---+   +   +---+   +\n",
      "|                           |   |\n",
      "|---+---+---+---+---+---+   +   +\n",
      "|                   |   |   |   |\n",
      "|---+---+---+---+   +   +   +   +\n",
      "|                               |\n",
      "|---+---+---+---+---+---+---+---+\n"
     ]
    }
   ],
   "source": [
    "# Maze dimensions (ncols, nrows)\n",
    "nx, ny = 8,8\n",
    "# Maze entry position\n",
    "ix, iy = 0, 0\n",
    "\n",
    "maze = Maze(nx, ny, ix, iy)\n",
    "generation_algorithms.Binary_Tree.on(maze)\n",
    "\n",
    "print(maze)\n",
    "# maze.write_svg('output/binary_tree_2.svg')"
   ]
  },
  {
   "cell_type": "code",
   "execution_count": 8,
   "metadata": {},
   "outputs": [
    {
     "name": "stdout",
     "output_type": "stream",
     "text": [
      "--------------------------------\n",
      "|           |               |   |\n",
      "|---+   +---+---+   +---+   +   +\n",
      "|           |   |       |       |\n",
      "|---+   +---+   +---+---+   +---+\n",
      "|   |                   |   |   |\n",
      "|   +---+---+   +   +   +   +   +\n",
      "|       |       |   |           |\n",
      "|   +---+   +---+---+---+   +---+\n",
      "|   |   |           |   |       |\n",
      "|   +   +   +   +---+   +---+   +\n",
      "|   |       |           |       |\n",
      "|   +   +---+---+---+---+---+   +\n",
      "|                   |           |\n",
      "|   +---+   +---+   +---+---+---+\n",
      "|       |   |                   |\n",
      "|---+---+---+---+---+---+---+---+\n"
     ]
    }
   ],
   "source": [
    "# Maze dimensions (ncols, nrows)\n",
    "nx, ny = 8, 8\n",
    "# Maze entry position\n",
    "ix, iy = 0, 0\n",
    "\n",
    "maze = Maze(nx, ny, ix, iy)\n",
    "generation_algorithms.Aldous_Broder.on(maze)\n",
    "\n",
    "print(maze)\n",
    "# maze.write_svg('output/aldous_broder_2.svg')"
   ]
  },
  {
   "cell_type": "code",
   "execution_count": 4,
   "metadata": {},
   "outputs": [
    {
     "name": "stdout",
     "output_type": "stream",
     "text": [
      "--------------------------------\n",
      "|           |               |   |\n",
      "|---+---+   +   +---+---+   +   +\n",
      "|       |   |       |       |   |\n",
      "|   +---+   +   +   +---+   +   +\n",
      "|   |       |   |       |       |\n",
      "|   +   +---+   +---+   +---+   +\n",
      "|   |   |       |   |   |       |\n",
      "|   +   +---+   +   +   +---+   +\n",
      "|   |       |       |       |   |\n",
      "|   +---+   +---+---+   +   +---+\n",
      "|       |           |   |       |\n",
      "|---+   +---+---+   +---+   +   +\n",
      "|               |       |   |   |\n",
      "|   +---+---+---+---+   +---+   +\n",
      "|                               |\n",
      "|---+---+---+---+---+---+---+---+\n"
     ]
    }
   ],
   "source": [
    "# Maze dimensions (ncols, nrows)\n",
    "nx, ny = 8, 8\n",
    "# Maze entry position\n",
    "ix, iy = 0, 0\n",
    "\n",
    "maze = Maze(nx, ny, ix, iy)\n",
    "generation_algorithms.Recursive_Backtracker.on(maze)\n",
    "\n",
    "print(maze)\n",
    "# maze.write_svg('output/aldous_broder_2.svg')"
   ]
  },
  {
   "cell_type": "code",
   "execution_count": 3,
   "metadata": {},
   "outputs": [
    {
     "name": "stdout",
     "output_type": "stream",
     "text": [
      "Started at:  5 4\n",
      "--------------------------------\n",
      "|           |       |           |\n",
      "|---+   +---+---+   +   +---+---+\n",
      "|           |   |       |       |\n",
      "|---+---+   +   +   +---+   +---+\n",
      "|                   |           |\n",
      "|   +   +---+---+   +   +---+---+\n",
      "|   |   |                       |\n",
      "|---+   +---+---+---+   +   +---+\n",
      "|       |               |       |\n",
      "|   +   +   +---+   +   +   +   +\n",
      "|   |   |   |       |   |   |   |\n",
      "|---+---+---+   +   +---+---+   +\n",
      "|               |   |           |\n",
      "|---+---+   +---+---+---+   +   +\n",
      "|           |               |   |\n",
      "|---+---+---+---+---+---+---+---+\n"
     ]
    }
   ],
   "source": [
    "# Maze dimensions (ncols, nrows)\n",
    "nx, ny = 8, 8\n",
    "# Maze entry position\n",
    "ix, iy = 0, 0\n",
    "\n",
    "maze = Maze(nx, ny, ix, iy)\n",
    "generation_algorithms.Prims.simplified_prims(maze)\n",
    "\n",
    "print(maze)\n",
    "# maze.write_svg('output/aldous_broder_2.svg')"
   ]
  },
  {
   "cell_type": "code",
   "execution_count": 4,
   "metadata": {},
   "outputs": [
    {
     "name": "stdout",
     "output_type": "stream",
     "text": [
      "--------------------------------\n",
      "|       |           |       |   |\n",
      "|---+   +   +---+---+   +---+   +\n",
      "|               |               |\n",
      "|   +---+   +---+---+   +---+   +\n",
      "|       |       |           |   |\n",
      "|   +---+---+---+---+---+   +---+\n",
      "|           |       |           |\n",
      "|---+   +---+   +---+   +---+---+\n",
      "|   |               |   |   |   |\n",
      "|   +   +   +   +---+   +   +   +\n",
      "|       |   |       |           |\n",
      "|   +---+---+   +   +---+   +---+\n",
      "|   |   |       |       |   |   |\n",
      "|---+   +---+---+   +---+   +   +\n",
      "|                               |\n",
      "|---+---+---+---+---+---+---+---+\n"
     ]
    }
   ],
   "source": [
    "# Maze dimensions (ncols, nrows)\n",
    "nx, ny = 8, 8\n",
    "# Maze entry position\n",
    "ix, iy = 0, 0\n",
    "\n",
    "maze = Maze(nx, ny, ix, iy)\n",
    "generation_algorithms.Prims.true_prims(maze)\n",
    "\n",
    "print(maze)\n",
    "# maze.write_svg('output/aldous_broder_2.svg')"
   ]
  },
  {
   "cell_type": "code",
   "execution_count": 5,
   "metadata": {},
   "outputs": [
    {
     "name": "stdout",
     "output_type": "stream",
     "text": [
      "--------------------------------\n",
      "|   |       |       |       |   |\n",
      "|   +   +---+---+   +---+   +   +\n",
      "|   |       |   |   |       |   |\n",
      "|   +   +---+   +   +---+   +   +\n",
      "|               |               |\n",
      "|---+   +---+   +---+   +---+   +\n",
      "|           |   |       |       |\n",
      "|---+---+   +   +---+---+---+   +\n",
      "|       |   |                   |\n",
      "|---+   +---+   +---+   +---+---+\n",
      "|           |       |           |\n",
      "|   +   +   +   +---+---+---+---+\n",
      "|   |   |               |       |\n",
      "|---+---+   +---+   +   +   +---+\n",
      "|           |       |           |\n",
      "|---+---+---+---+---+---+---+---+\n"
     ]
    }
   ],
   "source": [
    "# Maze dimensions (ncols, nrows)\n",
    "nx, ny = 8, 8\n",
    "# Maze entry position\n",
    "ix, iy = 0, 0\n",
    "\n",
    "maze = Maze(nx, ny, ix, iy)\n",
    "generation_algorithms.Kruskals.on(maze)\n",
    "\n",
    "print(maze)\n",
    "# maze.write_svg('output/aldous_broder_2.svg')"
   ]
  }
 ],
 "metadata": {
  "kernelspec": {
   "display_name": "Python 3",
   "language": "python",
   "name": "python3"
  },
  "language_info": {
   "codemirror_mode": {
    "name": "ipython",
    "version": 3
   },
   "file_extension": ".py",
   "mimetype": "text/x-python",
   "name": "python",
   "nbconvert_exporter": "python",
   "pygments_lexer": "ipython3",
   "version": "3.7.7"
  }
 },
 "nbformat": 4,
 "nbformat_minor": 4
}
